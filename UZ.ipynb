{
 "cells": [
  {
   "cell_type": "code",
   "execution_count": 1,
   "id": "b65102d4",
   "metadata": {},
   "outputs": [
    {
     "name": "stderr",
     "output_type": "stream",
     "text": [
      "C:\\ProgramData\\Anaconda3\\lib\\site-packages\\IPython\\core\\interactiveshell.py:3165: DtypeWarning: Columns (902,921) have mixed types.Specify dtype option on import or set low_memory=False.\n",
      "  has_raised = await self.run_ast_nodes(code_ast.body, cell_name,\n"
     ]
    }
   ],
   "source": [
    "import pandas as pd\n",
    "df=pd.read_csv('project_data.csv',sep=';')"
   ]
  },
  {
   "cell_type": "code",
   "execution_count": 2,
   "id": "9cac73ec",
   "metadata": {},
   "outputs": [],
   "source": [
    "df=df[['Worker','Q501','Educ_3categ_from201','Q102','UrbanRural','ageYr','Q702','Q803','fjobexist','ageeducleft','fmarrlegYYYY','childexist','agelefthome','educToWork','HaveBeenAbroad']]"
   ]
  },
  {
   "cell_type": "code",
   "execution_count": 3,
   "id": "394cf99e",
   "metadata": {},
   "outputs": [
    {
     "data": {
      "text/html": [
       "<div>\n",
       "<style scoped>\n",
       "    .dataframe tbody tr th:only-of-type {\n",
       "        vertical-align: middle;\n",
       "    }\n",
       "\n",
       "    .dataframe tbody tr th {\n",
       "        vertical-align: top;\n",
       "    }\n",
       "\n",
       "    .dataframe thead th {\n",
       "        text-align: right;\n",
       "    }\n",
       "</style>\n",
       "<table border=\"1\" class=\"dataframe\">\n",
       "  <thead>\n",
       "    <tr style=\"text-align: right;\">\n",
       "      <th></th>\n",
       "      <th>Worker</th>\n",
       "      <th>Q501</th>\n",
       "      <th>Educ_3categ_from201</th>\n",
       "      <th>Q102</th>\n",
       "      <th>UrbanRural</th>\n",
       "      <th>ageYr</th>\n",
       "      <th>Q702</th>\n",
       "      <th>Q803</th>\n",
       "      <th>fjobexist</th>\n",
       "      <th>ageeducleft</th>\n",
       "      <th>fmarrlegYYYY</th>\n",
       "      <th>childexist</th>\n",
       "      <th>agelefthome</th>\n",
       "      <th>educToWork</th>\n",
       "      <th>HaveBeenAbroad</th>\n",
       "    </tr>\n",
       "  </thead>\n",
       "  <tbody>\n",
       "    <tr>\n",
       "      <th>0</th>\n",
       "      <td>2</td>\n",
       "      <td>3</td>\n",
       "      <td>3</td>\n",
       "      <td>2</td>\n",
       "      <td>1</td>\n",
       "      <td>24</td>\n",
       "      <td>99</td>\n",
       "      <td>1</td>\n",
       "      <td>0</td>\n",
       "      <td>18,5</td>\n",
       "      <td>2011</td>\n",
       "      <td>1</td>\n",
       "      <td>18,5833339691162</td>\n",
       "      <td></td>\n",
       "      <td>2</td>\n",
       "    </tr>\n",
       "    <tr>\n",
       "      <th>1</th>\n",
       "      <td>1</td>\n",
       "      <td>3</td>\n",
       "      <td>1</td>\n",
       "      <td>2</td>\n",
       "      <td>1</td>\n",
       "      <td>29</td>\n",
       "      <td>99</td>\n",
       "      <td>1</td>\n",
       "      <td>1</td>\n",
       "      <td>18,5833339691162</td>\n",
       "      <td>2011</td>\n",
       "      <td>1</td>\n",
       "      <td>23,4166660308838</td>\n",
       "      <td>15</td>\n",
       "      <td>2</td>\n",
       "    </tr>\n",
       "    <tr>\n",
       "      <th>2</th>\n",
       "      <td>2</td>\n",
       "      <td>3</td>\n",
       "      <td>1</td>\n",
       "      <td>2</td>\n",
       "      <td>1</td>\n",
       "      <td>24</td>\n",
       "      <td>99</td>\n",
       "      <td>2</td>\n",
       "      <td>0</td>\n",
       "      <td>17,1666660308838</td>\n",
       "      <td>2013</td>\n",
       "      <td>1</td>\n",
       "      <td>21,6666660308838</td>\n",
       "      <td></td>\n",
       "      <td>2</td>\n",
       "    </tr>\n",
       "    <tr>\n",
       "      <th>3</th>\n",
       "      <td>2</td>\n",
       "      <td>1</td>\n",
       "      <td>3</td>\n",
       "      <td>2</td>\n",
       "      <td>1</td>\n",
       "      <td>28</td>\n",
       "      <td>99</td>\n",
       "      <td>1</td>\n",
       "      <td>1</td>\n",
       "      <td>23,3333339691162</td>\n",
       "      <td></td>\n",
       "      <td>0</td>\n",
       "      <td></td>\n",
       "      <td>3</td>\n",
       "      <td>2</td>\n",
       "    </tr>\n",
       "    <tr>\n",
       "      <th>4</th>\n",
       "      <td>1</td>\n",
       "      <td>3</td>\n",
       "      <td>3</td>\n",
       "      <td>1</td>\n",
       "      <td>1</td>\n",
       "      <td>26</td>\n",
       "      <td></td>\n",
       "      <td>2</td>\n",
       "      <td>1</td>\n",
       "      <td>23,1666660308838</td>\n",
       "      <td>2012</td>\n",
       "      <td>1</td>\n",
       "      <td></td>\n",
       "      <td>0</td>\n",
       "      <td>1</td>\n",
       "    </tr>\n",
       "    <tr>\n",
       "      <th>...</th>\n",
       "      <td>...</td>\n",
       "      <td>...</td>\n",
       "      <td>...</td>\n",
       "      <td>...</td>\n",
       "      <td>...</td>\n",
       "      <td>...</td>\n",
       "      <td>...</td>\n",
       "      <td>...</td>\n",
       "      <td>...</td>\n",
       "      <td>...</td>\n",
       "      <td>...</td>\n",
       "      <td>...</td>\n",
       "      <td>...</td>\n",
       "      <td>...</td>\n",
       "      <td>...</td>\n",
       "    </tr>\n",
       "    <tr>\n",
       "      <th>1995</th>\n",
       "      <td>1</td>\n",
       "      <td>1</td>\n",
       "      <td>1</td>\n",
       "      <td>1</td>\n",
       "      <td>2</td>\n",
       "      <td>22</td>\n",
       "      <td></td>\n",
       "      <td>1</td>\n",
       "      <td>0</td>\n",
       "      <td>18</td>\n",
       "      <td></td>\n",
       "      <td>0</td>\n",
       "      <td></td>\n",
       "      <td></td>\n",
       "      <td>2</td>\n",
       "    </tr>\n",
       "    <tr>\n",
       "      <th>1996</th>\n",
       "      <td>1</td>\n",
       "      <td>1</td>\n",
       "      <td>1</td>\n",
       "      <td>1</td>\n",
       "      <td>2</td>\n",
       "      <td>23</td>\n",
       "      <td></td>\n",
       "      <td>1</td>\n",
       "      <td>1</td>\n",
       "      <td>17,6666660308838</td>\n",
       "      <td></td>\n",
       "      <td>0</td>\n",
       "      <td>17,75</td>\n",
       "      <td>0</td>\n",
       "      <td>3</td>\n",
       "    </tr>\n",
       "    <tr>\n",
       "      <th>1997</th>\n",
       "      <td>2</td>\n",
       "      <td>3</td>\n",
       "      <td>1</td>\n",
       "      <td>2</td>\n",
       "      <td>2</td>\n",
       "      <td>23</td>\n",
       "      <td>2</td>\n",
       "      <td>1</td>\n",
       "      <td>1</td>\n",
       "      <td>15,3333330154419</td>\n",
       "      <td>2014</td>\n",
       "      <td>1</td>\n",
       "      <td>20,5833339691162</td>\n",
       "      <td>0</td>\n",
       "      <td>2</td>\n",
       "    </tr>\n",
       "    <tr>\n",
       "      <th>1998</th>\n",
       "      <td>2</td>\n",
       "      <td>3</td>\n",
       "      <td>1</td>\n",
       "      <td>2</td>\n",
       "      <td>2</td>\n",
       "      <td>27</td>\n",
       "      <td>2</td>\n",
       "      <td>2</td>\n",
       "      <td>0</td>\n",
       "      <td>17,6666660308838</td>\n",
       "      <td>2007</td>\n",
       "      <td>1</td>\n",
       "      <td>17,6666660308838</td>\n",
       "      <td></td>\n",
       "      <td>2</td>\n",
       "    </tr>\n",
       "    <tr>\n",
       "      <th>1999</th>\n",
       "      <td>2</td>\n",
       "      <td>1</td>\n",
       "      <td>1</td>\n",
       "      <td>2</td>\n",
       "      <td>2</td>\n",
       "      <td>23</td>\n",
       "      <td>2</td>\n",
       "      <td>2</td>\n",
       "      <td>0</td>\n",
       "      <td>18</td>\n",
       "      <td></td>\n",
       "      <td>0</td>\n",
       "      <td></td>\n",
       "      <td></td>\n",
       "      <td>2</td>\n",
       "    </tr>\n",
       "  </tbody>\n",
       "</table>\n",
       "<p>2000 rows × 15 columns</p>\n",
       "</div>"
      ],
      "text/plain": [
       "      Worker  Q501  Educ_3categ_from201  Q102  UrbanRural  ageYr Q702  Q803  \\\n",
       "0          2     3                    3     2           1     24   99     1   \n",
       "1          1     3                    1     2           1     29   99     1   \n",
       "2          2     3                    1     2           1     24   99     2   \n",
       "3          2     1                    3     2           1     28   99     1   \n",
       "4          1     3                    3     1           1     26          2   \n",
       "...      ...   ...                  ...   ...         ...    ...  ...   ...   \n",
       "1995       1     1                    1     1           2     22          1   \n",
       "1996       1     1                    1     1           2     23          1   \n",
       "1997       2     3                    1     2           2     23    2     1   \n",
       "1998       2     3                    1     2           2     27    2     2   \n",
       "1999       2     1                    1     2           2     23    2     2   \n",
       "\n",
       "      fjobexist       ageeducleft fmarrlegYYYY  childexist       agelefthome  \\\n",
       "0             0              18,5         2011           1  18,5833339691162   \n",
       "1             1  18,5833339691162         2011           1  23,4166660308838   \n",
       "2             0  17,1666660308838         2013           1  21,6666660308838   \n",
       "3             1  23,3333339691162                        0                     \n",
       "4             1  23,1666660308838         2012           1                     \n",
       "...         ...               ...          ...         ...               ...   \n",
       "1995          0                18                        0                     \n",
       "1996          1  17,6666660308838                        0             17,75   \n",
       "1997          1  15,3333330154419         2014           1  20,5833339691162   \n",
       "1998          0  17,6666660308838         2007           1  17,6666660308838   \n",
       "1999          0                18                        0                     \n",
       "\n",
       "     educToWork  HaveBeenAbroad  \n",
       "0                             2  \n",
       "1            15               2  \n",
       "2                             2  \n",
       "3             3               2  \n",
       "4             0               1  \n",
       "...         ...             ...  \n",
       "1995                          2  \n",
       "1996          0               3  \n",
       "1997          0               2  \n",
       "1998                          2  \n",
       "1999                          2  \n",
       "\n",
       "[2000 rows x 15 columns]"
      ]
     },
     "execution_count": 3,
     "metadata": {},
     "output_type": "execute_result"
    }
   ],
   "source": [
    "df"
   ]
  },
  {
   "cell_type": "code",
   "execution_count": 4,
   "id": "a74731b4",
   "metadata": {},
   "outputs": [],
   "source": [
    "df.dropna(inplace=True,axis=0)"
   ]
  },
  {
   "cell_type": "code",
   "execution_count": 5,
   "id": "62c3db5b",
   "metadata": {},
   "outputs": [],
   "source": [
    "df.rename(columns={'Q702':'wearHijab','Educ_3categ_from201':'edlevel',\n",
    "                   'Q803':'health','Q102':'Gender'}, inplace=True)"
   ]
  },
  {
   "cell_type": "code",
   "execution_count": 6,
   "id": "3b555960",
   "metadata": {},
   "outputs": [
    {
     "data": {
      "text/plain": [
       "Worker            0\n",
       "Q501              0\n",
       "edlevel           0\n",
       "Gender            0\n",
       "UrbanRural        0\n",
       "ageYr             0\n",
       "wearHijab         0\n",
       "health            0\n",
       "fjobexist         0\n",
       "ageeducleft       0\n",
       "fmarrlegYYYY      0\n",
       "childexist        0\n",
       "agelefthome       0\n",
       "educToWork        0\n",
       "HaveBeenAbroad    0\n",
       "dtype: int64"
      ]
     },
     "execution_count": 6,
     "metadata": {},
     "output_type": "execute_result"
    }
   ],
   "source": [
    "df.isnull().sum()"
   ]
  },
  {
   "cell_type": "code",
   "execution_count": 7,
   "id": "06d6ddd4",
   "metadata": {},
   "outputs": [
    {
     "data": {
      "text/html": [
       "<div>\n",
       "<style scoped>\n",
       "    .dataframe tbody tr th:only-of-type {\n",
       "        vertical-align: middle;\n",
       "    }\n",
       "\n",
       "    .dataframe tbody tr th {\n",
       "        vertical-align: top;\n",
       "    }\n",
       "\n",
       "    .dataframe thead th {\n",
       "        text-align: right;\n",
       "    }\n",
       "</style>\n",
       "<table border=\"1\" class=\"dataframe\">\n",
       "  <thead>\n",
       "    <tr style=\"text-align: right;\">\n",
       "      <th></th>\n",
       "      <th>Worker</th>\n",
       "      <th>Q501</th>\n",
       "      <th>edlevel</th>\n",
       "      <th>Gender</th>\n",
       "      <th>UrbanRural</th>\n",
       "      <th>ageYr</th>\n",
       "      <th>health</th>\n",
       "      <th>fjobexist</th>\n",
       "      <th>childexist</th>\n",
       "      <th>HaveBeenAbroad</th>\n",
       "    </tr>\n",
       "  </thead>\n",
       "  <tbody>\n",
       "    <tr>\n",
       "      <th>Worker</th>\n",
       "      <td>1.000000</td>\n",
       "      <td>-0.073569</td>\n",
       "      <td>-0.323764</td>\n",
       "      <td>0.172026</td>\n",
       "      <td>0.056298</td>\n",
       "      <td>-0.247759</td>\n",
       "      <td>0.138029</td>\n",
       "      <td>-0.533739</td>\n",
       "      <td>-0.078068</td>\n",
       "      <td>-0.052510</td>\n",
       "    </tr>\n",
       "    <tr>\n",
       "      <th>Q501</th>\n",
       "      <td>-0.073569</td>\n",
       "      <td>1.000000</td>\n",
       "      <td>0.122178</td>\n",
       "      <td>0.158964</td>\n",
       "      <td>-0.014888</td>\n",
       "      <td>0.447059</td>\n",
       "      <td>0.057600</td>\n",
       "      <td>0.044359</td>\n",
       "      <td>0.681221</td>\n",
       "      <td>-0.027302</td>\n",
       "    </tr>\n",
       "    <tr>\n",
       "      <th>edlevel</th>\n",
       "      <td>-0.323764</td>\n",
       "      <td>0.122178</td>\n",
       "      <td>1.000000</td>\n",
       "      <td>-0.194398</td>\n",
       "      <td>-0.131578</td>\n",
       "      <td>0.513776</td>\n",
       "      <td>-0.071834</td>\n",
       "      <td>0.346593</td>\n",
       "      <td>0.138983</td>\n",
       "      <td>0.052083</td>\n",
       "    </tr>\n",
       "    <tr>\n",
       "      <th>Gender</th>\n",
       "      <td>0.172026</td>\n",
       "      <td>0.158964</td>\n",
       "      <td>-0.194398</td>\n",
       "      <td>1.000000</td>\n",
       "      <td>-0.042977</td>\n",
       "      <td>-0.095354</td>\n",
       "      <td>0.029528</td>\n",
       "      <td>-0.422441</td>\n",
       "      <td>0.149372</td>\n",
       "      <td>0.135158</td>\n",
       "    </tr>\n",
       "    <tr>\n",
       "      <th>UrbanRural</th>\n",
       "      <td>0.056298</td>\n",
       "      <td>-0.014888</td>\n",
       "      <td>-0.131578</td>\n",
       "      <td>-0.042977</td>\n",
       "      <td>1.000000</td>\n",
       "      <td>-0.058697</td>\n",
       "      <td>0.065769</td>\n",
       "      <td>-0.048717</td>\n",
       "      <td>-0.028924</td>\n",
       "      <td>-0.034708</td>\n",
       "    </tr>\n",
       "    <tr>\n",
       "      <th>ageYr</th>\n",
       "      <td>-0.247759</td>\n",
       "      <td>0.447059</td>\n",
       "      <td>0.513776</td>\n",
       "      <td>-0.095354</td>\n",
       "      <td>-0.058697</td>\n",
       "      <td>1.000000</td>\n",
       "      <td>0.046416</td>\n",
       "      <td>0.279469</td>\n",
       "      <td>0.505490</td>\n",
       "      <td>-0.045511</td>\n",
       "    </tr>\n",
       "    <tr>\n",
       "      <th>health</th>\n",
       "      <td>0.138029</td>\n",
       "      <td>0.057600</td>\n",
       "      <td>-0.071834</td>\n",
       "      <td>0.029528</td>\n",
       "      <td>0.065769</td>\n",
       "      <td>0.046416</td>\n",
       "      <td>1.000000</td>\n",
       "      <td>-0.084341</td>\n",
       "      <td>0.035702</td>\n",
       "      <td>0.013206</td>\n",
       "    </tr>\n",
       "    <tr>\n",
       "      <th>fjobexist</th>\n",
       "      <td>-0.533739</td>\n",
       "      <td>0.044359</td>\n",
       "      <td>0.346593</td>\n",
       "      <td>-0.422441</td>\n",
       "      <td>-0.048717</td>\n",
       "      <td>0.279469</td>\n",
       "      <td>-0.084341</td>\n",
       "      <td>1.000000</td>\n",
       "      <td>0.022049</td>\n",
       "      <td>-0.122682</td>\n",
       "    </tr>\n",
       "    <tr>\n",
       "      <th>childexist</th>\n",
       "      <td>-0.078068</td>\n",
       "      <td>0.681221</td>\n",
       "      <td>0.138983</td>\n",
       "      <td>0.149372</td>\n",
       "      <td>-0.028924</td>\n",
       "      <td>0.505490</td>\n",
       "      <td>0.035702</td>\n",
       "      <td>0.022049</td>\n",
       "      <td>1.000000</td>\n",
       "      <td>-0.001218</td>\n",
       "    </tr>\n",
       "    <tr>\n",
       "      <th>HaveBeenAbroad</th>\n",
       "      <td>-0.052510</td>\n",
       "      <td>-0.027302</td>\n",
       "      <td>0.052083</td>\n",
       "      <td>0.135158</td>\n",
       "      <td>-0.034708</td>\n",
       "      <td>-0.045511</td>\n",
       "      <td>0.013206</td>\n",
       "      <td>-0.122682</td>\n",
       "      <td>-0.001218</td>\n",
       "      <td>1.000000</td>\n",
       "    </tr>\n",
       "  </tbody>\n",
       "</table>\n",
       "</div>"
      ],
      "text/plain": [
       "                  Worker      Q501   edlevel    Gender  UrbanRural     ageYr  \\\n",
       "Worker          1.000000 -0.073569 -0.323764  0.172026    0.056298 -0.247759   \n",
       "Q501           -0.073569  1.000000  0.122178  0.158964   -0.014888  0.447059   \n",
       "edlevel        -0.323764  0.122178  1.000000 -0.194398   -0.131578  0.513776   \n",
       "Gender          0.172026  0.158964 -0.194398  1.000000   -0.042977 -0.095354   \n",
       "UrbanRural      0.056298 -0.014888 -0.131578 -0.042977    1.000000 -0.058697   \n",
       "ageYr          -0.247759  0.447059  0.513776 -0.095354   -0.058697  1.000000   \n",
       "health          0.138029  0.057600 -0.071834  0.029528    0.065769  0.046416   \n",
       "fjobexist      -0.533739  0.044359  0.346593 -0.422441   -0.048717  0.279469   \n",
       "childexist     -0.078068  0.681221  0.138983  0.149372   -0.028924  0.505490   \n",
       "HaveBeenAbroad -0.052510 -0.027302  0.052083  0.135158   -0.034708 -0.045511   \n",
       "\n",
       "                  health  fjobexist  childexist  HaveBeenAbroad  \n",
       "Worker          0.138029  -0.533739   -0.078068       -0.052510  \n",
       "Q501            0.057600   0.044359    0.681221       -0.027302  \n",
       "edlevel        -0.071834   0.346593    0.138983        0.052083  \n",
       "Gender          0.029528  -0.422441    0.149372        0.135158  \n",
       "UrbanRural      0.065769  -0.048717   -0.028924       -0.034708  \n",
       "ageYr           0.046416   0.279469    0.505490       -0.045511  \n",
       "health          1.000000  -0.084341    0.035702        0.013206  \n",
       "fjobexist      -0.084341   1.000000    0.022049       -0.122682  \n",
       "childexist      0.035702   0.022049    1.000000       -0.001218  \n",
       "HaveBeenAbroad  0.013206  -0.122682   -0.001218        1.000000  "
      ]
     },
     "execution_count": 7,
     "metadata": {},
     "output_type": "execute_result"
    }
   ],
   "source": [
    "df.corr()"
   ]
  },
  {
   "cell_type": "code",
   "execution_count": 8,
   "id": "6412caf9",
   "metadata": {},
   "outputs": [],
   "source": [
    "df.at[df['Worker']==1,'isWorker']=1\n",
    "df.at[df['Worker']==2,'isWorker']=0"
   ]
  },
  {
   "cell_type": "code",
   "execution_count": 9,
   "id": "0cda853e",
   "metadata": {},
   "outputs": [],
   "source": [
    "y=df['isWorker']"
   ]
  },
  {
   "cell_type": "code",
   "execution_count": 10,
   "id": "44817443",
   "metadata": {},
   "outputs": [
    {
     "data": {
      "text/plain": [
       "0       0.0\n",
       "1       1.0\n",
       "2       0.0\n",
       "3       0.0\n",
       "4       1.0\n",
       "       ... \n",
       "1995    1.0\n",
       "1996    1.0\n",
       "1997    0.0\n",
       "1998    0.0\n",
       "1999    0.0\n",
       "Name: isWorker, Length: 2000, dtype: float64"
      ]
     },
     "execution_count": 10,
     "metadata": {},
     "output_type": "execute_result"
    }
   ],
   "source": [
    "y"
   ]
  },
  {
   "cell_type": "code",
   "execution_count": 11,
   "id": "310ede3c",
   "metadata": {},
   "outputs": [],
   "source": [
    "df.at[df['UrbanRural']==1,'Urban']=1\n",
    "df.at[df['UrbanRural']==2,'Urban']=0"
   ]
  },
  {
   "cell_type": "code",
   "execution_count": 12,
   "id": "9c4134f8",
   "metadata": {},
   "outputs": [
    {
     "data": {
      "text/plain": [
       "1    1326\n",
       "0     674\n",
       "Name: married, dtype: int64"
      ]
     },
     "execution_count": 12,
     "metadata": {},
     "output_type": "execute_result"
    }
   ],
   "source": [
    "df['married'] = df['Q501'].replace((1,2,3,4,5,6),(0,0,1,0,0,0))\n",
    "df['married'].value_counts()"
   ]
  },
  {
   "cell_type": "code",
   "execution_count": 13,
   "id": "b602f0ae",
   "metadata": {},
   "outputs": [
    {
     "data": {
      "text/plain": [
       "0    1535\n",
       "1     465\n",
       "Name: BeenAbroad, dtype: int64"
      ]
     },
     "execution_count": 13,
     "metadata": {},
     "output_type": "execute_result"
    }
   ],
   "source": [
    "df['BeenAbroad'] = df['HaveBeenAbroad'].replace((2, 3),(0,1))\n",
    "df['BeenAbroad'].value_counts()"
   ]
  },
  {
   "cell_type": "code",
   "execution_count": 14,
   "id": "97e8e02d",
   "metadata": {},
   "outputs": [
    {
     "data": {
      "text/plain": [
       "0    1004\n",
       "1     996\n",
       "Name: isFemale, dtype: int64"
      ]
     },
     "execution_count": 14,
     "metadata": {},
     "output_type": "execute_result"
    }
   ],
   "source": [
    "df['isFemale'] = df['Gender'].replace((1, 2),(0,1))\n",
    "df['isFemale'].value_counts()"
   ]
  },
  {
   "cell_type": "code",
   "execution_count": 15,
   "id": "fdf45c97",
   "metadata": {},
   "outputs": [
    {
     "data": {
      "text/plain": [
       "0       0\n",
       "1       0\n",
       "2       0\n",
       "3       0\n",
       "4       1\n",
       "       ..\n",
       "1995    0\n",
       "1996    1\n",
       "1997    0\n",
       "1998    0\n",
       "1999    0\n",
       "Name: BeenAbroad, Length: 2000, dtype: int64"
      ]
     },
     "execution_count": 15,
     "metadata": {},
     "output_type": "execute_result"
    }
   ],
   "source": [
    "df['BeenAbroad']"
   ]
  },
  {
   "cell_type": "code",
   "execution_count": 16,
   "id": "6f06a339",
   "metadata": {},
   "outputs": [
    {
     "data": {
      "text/plain": [
       "2    944\n",
       "1    790\n",
       "3    241\n",
       "4     24\n",
       "5      1\n",
       "Name: health, dtype: int64"
      ]
     },
     "execution_count": 16,
     "metadata": {},
     "output_type": "execute_result"
    }
   ],
   "source": [
    "df['health'].value_counts()"
   ]
  },
  {
   "cell_type": "code",
   "execution_count": 17,
   "id": "f329a896",
   "metadata": {},
   "outputs": [
    {
     "data": {
      "text/plain": [
       "1    1975\n",
       "0      25\n",
       "Name: healthy, dtype: int64"
      ]
     },
     "execution_count": 17,
     "metadata": {},
     "output_type": "execute_result"
    }
   ],
   "source": [
    "df['healthy'] = df['health'].replace((1,2,3,4,5),(1,1,1,0,0))\n",
    "\n",
    "df['healthy'].value_counts()"
   ]
  },
  {
   "cell_type": "code",
   "execution_count": 18,
   "id": "9be1a63a",
   "metadata": {},
   "outputs": [
    {
     "data": {
      "text/html": [
       "<div>\n",
       "<style scoped>\n",
       "    .dataframe tbody tr th:only-of-type {\n",
       "        vertical-align: middle;\n",
       "    }\n",
       "\n",
       "    .dataframe tbody tr th {\n",
       "        vertical-align: top;\n",
       "    }\n",
       "\n",
       "    .dataframe thead th {\n",
       "        text-align: right;\n",
       "    }\n",
       "</style>\n",
       "<table border=\"1\" class=\"dataframe\">\n",
       "  <thead>\n",
       "    <tr style=\"text-align: right;\">\n",
       "      <th></th>\n",
       "      <th>educlevel_1</th>\n",
       "      <th>educlevel_2</th>\n",
       "      <th>educlevel_3</th>\n",
       "    </tr>\n",
       "  </thead>\n",
       "  <tbody>\n",
       "    <tr>\n",
       "      <th>0</th>\n",
       "      <td>0</td>\n",
       "      <td>0</td>\n",
       "      <td>1</td>\n",
       "    </tr>\n",
       "    <tr>\n",
       "      <th>1</th>\n",
       "      <td>1</td>\n",
       "      <td>0</td>\n",
       "      <td>0</td>\n",
       "    </tr>\n",
       "    <tr>\n",
       "      <th>2</th>\n",
       "      <td>1</td>\n",
       "      <td>0</td>\n",
       "      <td>0</td>\n",
       "    </tr>\n",
       "    <tr>\n",
       "      <th>3</th>\n",
       "      <td>0</td>\n",
       "      <td>0</td>\n",
       "      <td>1</td>\n",
       "    </tr>\n",
       "    <tr>\n",
       "      <th>4</th>\n",
       "      <td>0</td>\n",
       "      <td>0</td>\n",
       "      <td>1</td>\n",
       "    </tr>\n",
       "    <tr>\n",
       "      <th>...</th>\n",
       "      <td>...</td>\n",
       "      <td>...</td>\n",
       "      <td>...</td>\n",
       "    </tr>\n",
       "    <tr>\n",
       "      <th>1995</th>\n",
       "      <td>1</td>\n",
       "      <td>0</td>\n",
       "      <td>0</td>\n",
       "    </tr>\n",
       "    <tr>\n",
       "      <th>1996</th>\n",
       "      <td>1</td>\n",
       "      <td>0</td>\n",
       "      <td>0</td>\n",
       "    </tr>\n",
       "    <tr>\n",
       "      <th>1997</th>\n",
       "      <td>1</td>\n",
       "      <td>0</td>\n",
       "      <td>0</td>\n",
       "    </tr>\n",
       "    <tr>\n",
       "      <th>1998</th>\n",
       "      <td>1</td>\n",
       "      <td>0</td>\n",
       "      <td>0</td>\n",
       "    </tr>\n",
       "    <tr>\n",
       "      <th>1999</th>\n",
       "      <td>1</td>\n",
       "      <td>0</td>\n",
       "      <td>0</td>\n",
       "    </tr>\n",
       "  </tbody>\n",
       "</table>\n",
       "<p>2000 rows × 3 columns</p>\n",
       "</div>"
      ],
      "text/plain": [
       "      educlevel_1  educlevel_2  educlevel_3\n",
       "0               0            0            1\n",
       "1               1            0            0\n",
       "2               1            0            0\n",
       "3               0            0            1\n",
       "4               0            0            1\n",
       "...           ...          ...          ...\n",
       "1995            1            0            0\n",
       "1996            1            0            0\n",
       "1997            1            0            0\n",
       "1998            1            0            0\n",
       "1999            1            0            0\n",
       "\n",
       "[2000 rows x 3 columns]"
      ]
     },
     "execution_count": 18,
     "metadata": {},
     "output_type": "execute_result"
    }
   ],
   "source": [
    "education = pd.get_dummies(df[\"edlevel\"], prefix=\"educlevel\", dummy_na=False)\n",
    "education"
   ]
  },
  {
   "cell_type": "code",
   "execution_count": 19,
   "id": "e1510b89",
   "metadata": {},
   "outputs": [],
   "source": [
    "df = pd.concat([df, education], axis=1)"
   ]
  },
  {
   "cell_type": "code",
   "execution_count": 20,
   "id": "3c912018",
   "metadata": {},
   "outputs": [],
   "source": [
    "df = df.drop(['edlevel'], axis=1)"
   ]
  },
  {
   "cell_type": "code",
   "execution_count": 21,
   "id": "805ebdb5",
   "metadata": {},
   "outputs": [],
   "source": [
    "X=df[['childexist','Urban',\n",
    "      'isFemale','BeenAbroad',\n",
    "      'educlevel_1','educlevel_2','educlevel_3',\n",
    "      'healthy','ageYr','fjobexist','married']]"
   ]
  },
  {
   "cell_type": "code",
   "execution_count": 22,
   "id": "cbe6bb58",
   "metadata": {},
   "outputs": [
    {
     "name": "stdout",
     "output_type": "stream",
     "text": [
      "<class 'pandas.core.frame.DataFrame'>\n",
      "Int64Index: 2000 entries, 0 to 1999\n",
      "Data columns (total 11 columns):\n",
      " #   Column       Non-Null Count  Dtype  \n",
      "---  ------       --------------  -----  \n",
      " 0   childexist   2000 non-null   int64  \n",
      " 1   Urban        2000 non-null   float64\n",
      " 2   isFemale     2000 non-null   int64  \n",
      " 3   BeenAbroad   2000 non-null   int64  \n",
      " 4   educlevel_1  2000 non-null   uint8  \n",
      " 5   educlevel_2  2000 non-null   uint8  \n",
      " 6   educlevel_3  2000 non-null   uint8  \n",
      " 7   healthy      2000 non-null   int64  \n",
      " 8   ageYr        2000 non-null   int64  \n",
      " 9   fjobexist    2000 non-null   int64  \n",
      " 10  married      2000 non-null   int64  \n",
      "dtypes: float64(1), int64(7), uint8(3)\n",
      "memory usage: 211.0 KB\n"
     ]
    }
   ],
   "source": [
    "X.info()"
   ]
  },
  {
   "cell_type": "code",
   "execution_count": 23,
   "id": "c882e845",
   "metadata": {},
   "outputs": [],
   "source": [
    "from sklearn.model_selection import train_test_split\n"
   ]
  },
  {
   "cell_type": "code",
   "execution_count": 24,
   "id": "3549a9e4",
   "metadata": {},
   "outputs": [],
   "source": [
    "X_train,X_test,y_train,y_test = train_test_split(X,y,test_size=0.2,random_state=42)"
   ]
  },
  {
   "cell_type": "code",
   "execution_count": 25,
   "id": "b43589e1",
   "metadata": {},
   "outputs": [],
   "source": [
    "from sklearn.linear_model import LogisticRegression"
   ]
  },
  {
   "cell_type": "code",
   "execution_count": 26,
   "id": "5a3490b3",
   "metadata": {},
   "outputs": [],
   "source": [
    "logreg = LogisticRegression()"
   ]
  },
  {
   "cell_type": "code",
   "execution_count": 27,
   "id": "eb1ea174",
   "metadata": {},
   "outputs": [
    {
     "name": "stderr",
     "output_type": "stream",
     "text": [
      "C:\\ProgramData\\Anaconda3\\lib\\site-packages\\sklearn\\linear_model\\_logistic.py:763: ConvergenceWarning: lbfgs failed to converge (status=1):\n",
      "STOP: TOTAL NO. of ITERATIONS REACHED LIMIT.\n",
      "\n",
      "Increase the number of iterations (max_iter) or scale the data as shown in:\n",
      "    https://scikit-learn.org/stable/modules/preprocessing.html\n",
      "Please also refer to the documentation for alternative solver options:\n",
      "    https://scikit-learn.org/stable/modules/linear_model.html#logistic-regression\n",
      "  n_iter_i = _check_optimize_result(\n"
     ]
    },
    {
     "data": {
      "text/plain": [
       "LogisticRegression()"
      ]
     },
     "execution_count": 27,
     "metadata": {},
     "output_type": "execute_result"
    }
   ],
   "source": [
    "logreg.fit(X_train,y_train)\n"
   ]
  },
  {
   "cell_type": "code",
   "execution_count": 28,
   "id": "5aae47a7",
   "metadata": {},
   "outputs": [],
   "source": [
    "y_pred = logreg.predict(X_test)"
   ]
  },
  {
   "cell_type": "code",
   "execution_count": 29,
   "id": "c4148130",
   "metadata": {},
   "outputs": [
    {
     "data": {
      "text/plain": [
       "0.8075"
      ]
     },
     "execution_count": 29,
     "metadata": {},
     "output_type": "execute_result"
    }
   ],
   "source": [
    "logreg.score(X_test,y_test)"
   ]
  },
  {
   "cell_type": "code",
   "execution_count": 30,
   "id": "4c3d9e87",
   "metadata": {},
   "outputs": [
    {
     "data": {
      "text/plain": [
       "array([[147,  23],\n",
       "       [ 54, 176]], dtype=int64)"
      ]
     },
     "execution_count": 30,
     "metadata": {},
     "output_type": "execute_result"
    }
   ],
   "source": [
    "from sklearn import metrics\n",
    "cnf_matrix = metrics.confusion_matrix(y_test, y_pred)\n",
    "cnf_matrix\n"
   ]
  },
  {
   "cell_type": "code",
   "execution_count": 32,
   "id": "a24cf353",
   "metadata": {},
   "outputs": [],
   "source": [
    "import pickle\n",
    "filename = 'finalized_model.sav'\n",
    "pickle.dump(logreg, open(filename, 'wb'))"
   ]
  },
  {
   "cell_type": "code",
   "execution_count": null,
   "id": "191d15f3",
   "metadata": {},
   "outputs": [],
   "source": []
  }
 ],
 "metadata": {
  "kernelspec": {
   "display_name": "Python 3",
   "language": "python",
   "name": "python3"
  },
  "language_info": {
   "codemirror_mode": {
    "name": "ipython",
    "version": 3
   },
   "file_extension": ".py",
   "mimetype": "text/x-python",
   "name": "python",
   "nbconvert_exporter": "python",
   "pygments_lexer": "ipython3",
   "version": "3.8.8"
  }
 },
 "nbformat": 4,
 "nbformat_minor": 5
}
