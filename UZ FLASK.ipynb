{
 "cells": [
  {
   "cell_type": "code",
   "execution_count": null,
   "id": "764db44f",
   "metadata": {},
   "outputs": [
    {
     "name": "stdout",
     "output_type": "stream",
     "text": [
      " * Serving Flask app \"__main__\" (lazy loading)\n",
      " * Environment: production\n",
      "\u001b[31m   WARNING: This is a development server. Do not use it in a production deployment.\u001b[0m\n",
      "\u001b[2m   Use a production WSGI server instead.\u001b[0m\n",
      " * Debug mode: off\n"
     ]
    },
    {
     "name": "stderr",
     "output_type": "stream",
     "text": [
      "/Users/macbook/opt/anaconda3/lib/python3.9/site-packages/sklearn/base.py:310: UserWarning: Trying to unpickle estimator LogisticRegression from version 0.24.1 when using version 0.24.2. This might lead to breaking code or invalid results. Use at your own risk.\n",
      "  warnings.warn(\n",
      " * Running on http://127.0.0.1:5000/ (Press CTRL+C to quit)\n",
      "127.0.0.1 - - [02/Feb/2022 23:22:48] \"GET / HTTP/1.1\" 200 -\n",
      "127.0.0.1 - - [02/Feb/2022 23:22:48] \"GET /css/style.css HTTP/1.1\" 404 -\n"
     ]
    }
   ],
   "source": [
    "from flask import Flask, request, render_template\n",
    "import pickle\n",
    "\n",
    "app = Flask(__name__)\n",
    "loaded_model = pickle.load(open(\"finalized_model.sav\", \"rb\"))\n",
    "@app.route('/')\n",
    "def index():\n",
    "    return render_template('UNICEF_ZYPL.html')\n",
    "@app.route('/predict', methods=['POST'])\n",
    "def predict():\n",
    "    if request.method == 'POST':\n",
    "        q1 = int(request.form.get('childexist'))\n",
    "        q2 = int(request.form.get('Urban'))\n",
    "        q3 = int(request.form.get('isFemale'))\n",
    "        q4 = int(request.form.get('BeenAbroad'))\n",
    "        q5 = int(request.form.get('educlevel_1'))\n",
    "        q6 = int(request.form.get('educlevel_2'))\n",
    "        q7 = int(request.form.get('educlevel_3'))\n",
    "        q8 = int(request.form.get('healthy'))\n",
    "        q9 = int(request.form.get('ageYr'))\n",
    "        q10 = int(request.form.get('fjobexist'))\n",
    "        q11 = int(request.form.get('married'))\n",
    "\n",
    "        result = [q1, q2, q3, q4, q5, q6, q7, q8, q9, q10, q11]\n",
    "        pr = loaded_model.predict([result])\n",
    "        \n",
    "        \n",
    "    return render_template(\"UNICEF_ZYPL.html\", result_text=\"Result: {}\".format(pr))\n",
    "\n",
    "\n",
    "if __name__ == \"__main__\":\n",
    "    \n",
    "    app.run()\n"
   ]
  },
  {
   "cell_type": "code",
   "execution_count": null,
   "id": "2f589406",
   "metadata": {},
   "outputs": [],
   "source": []
  },
  {
   "cell_type": "code",
   "execution_count": null,
   "id": "5a5d4ad2",
   "metadata": {},
   "outputs": [],
   "source": []
  }
 ],
 "metadata": {
  "kernelspec": {
   "display_name": "Python 3 (ipykernel)",
   "language": "python",
   "name": "python3"
  },
  "language_info": {
   "codemirror_mode": {
    "name": "ipython",
    "version": 3
   },
   "file_extension": ".py",
   "mimetype": "text/x-python",
   "name": "python",
   "nbconvert_exporter": "python",
   "pygments_lexer": "ipython3",
   "version": "3.9.7"
  }
 },
 "nbformat": 4,
 "nbformat_minor": 5
}
